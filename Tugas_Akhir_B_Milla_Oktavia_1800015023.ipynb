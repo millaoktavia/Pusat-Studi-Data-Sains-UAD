{
  "nbformat": 4,
  "nbformat_minor": 0,
  "metadata": {
    "colab": {
      "name": "Tugas Akhir B_Milla Oktavia_1800015023.ipynb",
      "provenance": [],
      "collapsed_sections": [],
      "authorship_tag": "ABX9TyPM1YIEppC9T94jWGgNPGjx",
      "include_colab_link": true
    },
    "kernelspec": {
      "name": "python3",
      "display_name": "Python 3"
    }
  },
  "cells": [
    {
      "cell_type": "markdown",
      "metadata": {
        "id": "view-in-github",
        "colab_type": "text"
      },
      "source": [
        "<a href=\"https://colab.research.google.com/github/millaoktavia/Pusat-Studi-Data-Sains-UAD/blob/main/Tugas_Akhir_B_Milla_Oktavia_1800015023.ipynb\" target=\"_parent\"><img src=\"https://colab.research.google.com/assets/colab-badge.svg\" alt=\"Open In Colab\"/></a>"
      ]
    },
    {
      "cell_type": "markdown",
      "metadata": {
        "id": "DGzy3usHcEgO"
      },
      "source": [
        "Kolom 1 | kolom 2\r\n",
        "-------|----------\r\n",
        "Nama | Milla Oktavia\r\n",
        "NIM  | 1800015023\r\n",
        "Semester | 5"
      ]
    },
    {
      "cell_type": "markdown",
      "metadata": {
        "id": "fKSgCI540nU3"
      },
      "source": [
        "#Mencari Volume Dua Bangun Ruang\r\n",
        "berikut volume gabungan dari bangun kerucut dan setengah bola"
      ]
    },
    {
      "cell_type": "code",
      "metadata": {
        "colab": {
          "base_uri": "https://localhost:8080/"
        },
        "id": "WY64Pv-E0lRi",
        "outputId": "bde5d2d3-0d4b-4332-b913-1c316a6bdee6"
      },
      "source": [
        "#r = jari-jari bola dan kerucut sama\r\n",
        "#t = tinggi kerucut\r\n",
        "#bangun ruang berbentuk kombinasi dari kerucut dan setengah bola\r\n",
        "\r\n",
        "print(\"Volume Kombinasi kerucut dan bola\")\r\n",
        "print(\"=========================================\")\r\n",
        "r = float(input(\"Masukkan panjang jari-jari : \"))\r\n",
        "t = float(input(\"Masukkan tinggi kerucut : \"))\r\n",
        "\r\n",
        "def volume_setengahbola (r):\r\n",
        "    volume = ((2/3)*(22/7)*r**3) #volume setengah bola\r\n",
        "    return volume \r\n",
        "\r\n",
        "def volume_kerucut (r,t):\r\n",
        "    volume = ((1/3)*(22/7)*r**2*t) #volume kerucut\r\n",
        "    return volume\r\n",
        "\r\n",
        "def volume_gabungan (r,t):\r\n",
        "    v1 = ((2/3)*(22/7)*r**3)\r\n",
        "    v2 = ((1/3)*(22/7)*r**2*t) \r\n",
        "    volume = v1+v2\r\n",
        "    return volume\r\n",
        "\r\n",
        "print (\"Maka Volume setengah bola adalah : \", volume_setengahbola(r))\r\n",
        "print (\"Maka Volume kerucut adalah : \", volume_kerucut(r,t))\r\n",
        "print (\"Maka Volume gabungan setengah bola dan kerucut adalah : \", volume_gabungan(r,t))"
      ],
      "execution_count": null,
      "outputs": [
        {
          "output_type": "stream",
          "text": [
            "Volume Kombinasi kerucut dan bola\n",
            "=========================================\n",
            "Masukkan panjang jari-jari : 14\n",
            "Masukkan tinggi kerucut : 7\n",
            "Maka Volume setengah bola adalah :  5749.333333333332\n",
            "Maka Volume kerucut adalah :  1437.3333333333333\n",
            "Maka Volume gabungan bola dan kerucut adalah :  7186.666666666665\n"
          ],
          "name": "stdout"
        }
      ]
    }
  ]
}