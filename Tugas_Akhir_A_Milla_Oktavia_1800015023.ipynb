{
  "nbformat": 4,
  "nbformat_minor": 0,
  "metadata": {
    "colab": {
      "name": "Tugas Akhir A - Milla Oktavia - 1800015023.ipynb",
      "provenance": [],
      "collapsed_sections": [],
      "include_colab_link": true
    },
    "kernelspec": {
      "name": "python3",
      "display_name": "Python 3"
    }
  },
  "cells": [
    {
      "cell_type": "markdown",
      "metadata": {
        "id": "view-in-github",
        "colab_type": "text"
      },
      "source": [
        "<a href=\"https://colab.research.google.com/github/millaoktavia/Pusat-Studi-Data-Sains-UAD/blob/main/Tugas_Akhir_A_Milla_Oktavia_1800015023.ipynb\" target=\"_parent\"><img src=\"https://colab.research.google.com/assets/colab-badge.svg\" alt=\"Open In Colab\"/></a>"
      ]
    },
    {
      "cell_type": "markdown",
      "metadata": {
        "id": "oDHEL6DqpPVJ"
      },
      "source": [
        "#**Students Performance**"
      ]
    },
    {
      "cell_type": "markdown",
      "metadata": {
        "id": "DgO3iYs1pTUx"
      },
      "source": [
        "Penjelasan dataset : ini adalah data yang saya ambil dari kaggle, dimana data ini adalah data Kecelakaan Mobil dari tahun 1997-2002 berdasarkan sebagian besar data penumpang kursi bagian depan dari berbagai faktor, seperti airbag, seatbelt, age, sex(gender). Untuk mengetahui tingkat keparahan cidera yang di alami, seperti (dead,alive).\r\n"
      ]
    },
    {
      "cell_type": "markdown",
      "metadata": {
        "id": "7ltsR5GipWFY"
      },
      "source": [
        "## Pertanyaan Analisis"
      ]
    },
    {
      "cell_type": "markdown",
      "metadata": {
        "id": "w62SORzgn_6B"
      },
      "source": [
        "Apakah ada hubungan banyaknya kejadian kecelakaan mobil dengan faktor penyebab dan tingkat keparahan korban dari tahun ketahun ?"
      ]
    },
    {
      "cell_type": "markdown",
      "metadata": {
        "id": "7uPLgbqx-71W"
      },
      "source": [
        "## Data Preparation"
      ]
    },
    {
      "cell_type": "markdown",
      "metadata": {
        "id": "oY966Cf3JCR-"
      },
      "source": [
        "1. Mengimport seaborn & panda dan memanggil dataframe.\r\n",
        "2. Memunculkan rangkuman statistik pada tiap kolom.\r\n",
        "3. Mencari rata-rata kecelakaan mobil.\r\n",
        "4. Mencari beragam usia yang mengalami kecelakaan mobil.\r\n",
        "5. Mencari tingkat keparahan korban kecelakaan mobil."
      ]
    },
    {
      "cell_type": "code",
      "metadata": {
        "id": "Gms02If3pAw8",
        "colab": {
          "base_uri": "https://localhost:8080/",
          "height": 348
        },
        "outputId": "f2911145-9660-40f0-9e63-4f20fa1ba7bd"
      },
      "source": [
        "import seaborn as sns\r\n",
        "import pandas as pd\r\n",
        "\r\n",
        "df=pd.read_csv('https://raw.githubusercontent.com/millaoktavia/Pusat-Studi-Data-Sains-UAD/main/car_crash.csv')\r\n",
        "df.head(10)"
      ],
      "execution_count": null,
      "outputs": [
        {
          "output_type": "execute_result",
          "data": {
            "text/html": [
              "<div>\n",
              "<style scoped>\n",
              "    .dataframe tbody tr th:only-of-type {\n",
              "        vertical-align: middle;\n",
              "    }\n",
              "\n",
              "    .dataframe tbody tr th {\n",
              "        vertical-align: top;\n",
              "    }\n",
              "\n",
              "    .dataframe thead th {\n",
              "        text-align: right;\n",
              "    }\n",
              "</style>\n",
              "<table border=\"1\" class=\"dataframe\">\n",
              "  <thead>\n",
              "    <tr style=\"text-align: right;\">\n",
              "      <th></th>\n",
              "      <th>dvcat</th>\n",
              "      <th>weight</th>\n",
              "      <th>dead</th>\n",
              "      <th>airbag</th>\n",
              "      <th>seatbelt</th>\n",
              "      <th>frontal</th>\n",
              "      <th>sex</th>\n",
              "      <th>ageOFocc</th>\n",
              "      <th>yearacc</th>\n",
              "      <th>yearVeh</th>\n",
              "      <th>abcat</th>\n",
              "      <th>occRole</th>\n",
              "      <th>deploy</th>\n",
              "      <th>caseid</th>\n",
              "    </tr>\n",
              "  </thead>\n",
              "  <tbody>\n",
              "    <tr>\n",
              "      <th>0</th>\n",
              "      <td>40-54</td>\n",
              "      <td>18.895</td>\n",
              "      <td>alive</td>\n",
              "      <td>airbag</td>\n",
              "      <td>belted</td>\n",
              "      <td>0</td>\n",
              "      <td>m</td>\n",
              "      <td>25</td>\n",
              "      <td>2002</td>\n",
              "      <td>2000.0</td>\n",
              "      <td>deploy</td>\n",
              "      <td>pass</td>\n",
              "      <td>1</td>\n",
              "      <td>81:99:1</td>\n",
              "    </tr>\n",
              "    <tr>\n",
              "      <th>1</th>\n",
              "      <td>25-39</td>\n",
              "      <td>266.532</td>\n",
              "      <td>alive</td>\n",
              "      <td>none</td>\n",
              "      <td>none</td>\n",
              "      <td>1</td>\n",
              "      <td>f</td>\n",
              "      <td>28</td>\n",
              "      <td>2001</td>\n",
              "      <td>1991.0</td>\n",
              "      <td>unavail</td>\n",
              "      <td>driver</td>\n",
              "      <td>0</td>\n",
              "      <td>76:12:2</td>\n",
              "    </tr>\n",
              "    <tr>\n",
              "      <th>2</th>\n",
              "      <td>25-39</td>\n",
              "      <td>51.810</td>\n",
              "      <td>alive</td>\n",
              "      <td>airbag</td>\n",
              "      <td>belted</td>\n",
              "      <td>1</td>\n",
              "      <td>f</td>\n",
              "      <td>36</td>\n",
              "      <td>1999</td>\n",
              "      <td>1994.0</td>\n",
              "      <td>deploy</td>\n",
              "      <td>driver</td>\n",
              "      <td>1</td>\n",
              "      <td>78:53:2</td>\n",
              "    </tr>\n",
              "    <tr>\n",
              "      <th>3</th>\n",
              "      <td>10-24</td>\n",
              "      <td>1567.626</td>\n",
              "      <td>alive</td>\n",
              "      <td>airbag</td>\n",
              "      <td>belted</td>\n",
              "      <td>0</td>\n",
              "      <td>f</td>\n",
              "      <td>24</td>\n",
              "      <td>2002</td>\n",
              "      <td>1994.0</td>\n",
              "      <td>nodeploy</td>\n",
              "      <td>driver</td>\n",
              "      <td>0</td>\n",
              "      <td>11:47:1</td>\n",
              "    </tr>\n",
              "    <tr>\n",
              "      <th>4</th>\n",
              "      <td>25-39</td>\n",
              "      <td>31.342</td>\n",
              "      <td>alive</td>\n",
              "      <td>none</td>\n",
              "      <td>none</td>\n",
              "      <td>1</td>\n",
              "      <td>f</td>\n",
              "      <td>46</td>\n",
              "      <td>1997</td>\n",
              "      <td>1990.0</td>\n",
              "      <td>unavail</td>\n",
              "      <td>pass</td>\n",
              "      <td>0</td>\n",
              "      <td>12:87:2</td>\n",
              "    </tr>\n",
              "    <tr>\n",
              "      <th>5</th>\n",
              "      <td>10-24</td>\n",
              "      <td>11.454</td>\n",
              "      <td>alive</td>\n",
              "      <td>none</td>\n",
              "      <td>belted</td>\n",
              "      <td>1</td>\n",
              "      <td>m</td>\n",
              "      <td>45</td>\n",
              "      <td>2000</td>\n",
              "      <td>1994.0</td>\n",
              "      <td>unavail</td>\n",
              "      <td>driver</td>\n",
              "      <td>0</td>\n",
              "      <td>74:41:2</td>\n",
              "    </tr>\n",
              "    <tr>\n",
              "      <th>6</th>\n",
              "      <td>10-24</td>\n",
              "      <td>196.683</td>\n",
              "      <td>alive</td>\n",
              "      <td>airbag</td>\n",
              "      <td>belted</td>\n",
              "      <td>0</td>\n",
              "      <td>f</td>\n",
              "      <td>22</td>\n",
              "      <td>1999</td>\n",
              "      <td>1995.0</td>\n",
              "      <td>nodeploy</td>\n",
              "      <td>driver</td>\n",
              "      <td>0</td>\n",
              "      <td>2:111:1</td>\n",
              "    </tr>\n",
              "    <tr>\n",
              "      <th>7</th>\n",
              "      <td>10-24</td>\n",
              "      <td>3.245</td>\n",
              "      <td>alive</td>\n",
              "      <td>none</td>\n",
              "      <td>belted</td>\n",
              "      <td>1</td>\n",
              "      <td>f</td>\n",
              "      <td>18</td>\n",
              "      <td>2000</td>\n",
              "      <td>1989.0</td>\n",
              "      <td>unavail</td>\n",
              "      <td>driver</td>\n",
              "      <td>0</td>\n",
              "      <td>82:13:2</td>\n",
              "    </tr>\n",
              "    <tr>\n",
              "      <th>8</th>\n",
              "      <td>25-39</td>\n",
              "      <td>232.832</td>\n",
              "      <td>alive</td>\n",
              "      <td>none</td>\n",
              "      <td>belted</td>\n",
              "      <td>0</td>\n",
              "      <td>f</td>\n",
              "      <td>38</td>\n",
              "      <td>2001</td>\n",
              "      <td>1990.0</td>\n",
              "      <td>unavail</td>\n",
              "      <td>driver</td>\n",
              "      <td>0</td>\n",
              "      <td>13:143:1</td>\n",
              "    </tr>\n",
              "    <tr>\n",
              "      <th>9</th>\n",
              "      <td>10-24</td>\n",
              "      <td>10.725</td>\n",
              "      <td>alive</td>\n",
              "      <td>airbag</td>\n",
              "      <td>belted</td>\n",
              "      <td>1</td>\n",
              "      <td>m</td>\n",
              "      <td>47</td>\n",
              "      <td>2001</td>\n",
              "      <td>1999.0</td>\n",
              "      <td>deploy</td>\n",
              "      <td>pass</td>\n",
              "      <td>1</td>\n",
              "      <td>72:2:1</td>\n",
              "    </tr>\n",
              "  </tbody>\n",
              "</table>\n",
              "</div>"
            ],
            "text/plain": [
              "   dvcat    weight   dead  airbag  ...     abcat  occRole deploy    caseid\n",
              "0  40-54    18.895  alive  airbag  ...    deploy     pass      1   81:99:1\n",
              "1  25-39   266.532  alive    none  ...   unavail   driver      0   76:12:2\n",
              "2  25-39    51.810  alive  airbag  ...    deploy   driver      1   78:53:2\n",
              "3  10-24  1567.626  alive  airbag  ...  nodeploy   driver      0   11:47:1\n",
              "4  25-39    31.342  alive    none  ...   unavail     pass      0   12:87:2\n",
              "5  10-24    11.454  alive    none  ...   unavail   driver      0   74:41:2\n",
              "6  10-24   196.683  alive  airbag  ...  nodeploy   driver      0   2:111:1\n",
              "7  10-24     3.245  alive    none  ...   unavail   driver      0   82:13:2\n",
              "8  25-39   232.832  alive    none  ...   unavail   driver      0  13:143:1\n",
              "9  10-24    10.725  alive  airbag  ...    deploy     pass      1    72:2:1\n",
              "\n",
              "[10 rows x 14 columns]"
            ]
          },
          "metadata": {
            "tags": []
          },
          "execution_count": 33
        }
      ]
    },
    {
      "cell_type": "code",
      "metadata": {
        "colab": {
          "base_uri": "https://localhost:8080/",
          "height": 288
        },
        "id": "9SXSjLedY03M",
        "outputId": "1dcd2ceb-930e-40c1-ad0b-a3d4e550b2a3"
      },
      "source": [
        "df.describe()"
      ],
      "execution_count": null,
      "outputs": [
        {
          "output_type": "execute_result",
          "data": {
            "text/html": [
              "<div>\n",
              "<style scoped>\n",
              "    .dataframe tbody tr th:only-of-type {\n",
              "        vertical-align: middle;\n",
              "    }\n",
              "\n",
              "    .dataframe tbody tr th {\n",
              "        vertical-align: top;\n",
              "    }\n",
              "\n",
              "    .dataframe thead th {\n",
              "        text-align: right;\n",
              "    }\n",
              "</style>\n",
              "<table border=\"1\" class=\"dataframe\">\n",
              "  <thead>\n",
              "    <tr style=\"text-align: right;\">\n",
              "      <th></th>\n",
              "      <th>weight</th>\n",
              "      <th>frontal</th>\n",
              "      <th>ageOFocc</th>\n",
              "      <th>yearacc</th>\n",
              "      <th>yearVeh</th>\n",
              "      <th>deploy</th>\n",
              "    </tr>\n",
              "  </thead>\n",
              "  <tbody>\n",
              "    <tr>\n",
              "      <th>count</th>\n",
              "      <td>8652.000000</td>\n",
              "      <td>8652.000000</td>\n",
              "      <td>8652.000000</td>\n",
              "      <td>8652.000000</td>\n",
              "      <td>8651.000000</td>\n",
              "      <td>8652.000000</td>\n",
              "    </tr>\n",
              "    <tr>\n",
              "      <th>mean</th>\n",
              "      <td>471.030930</td>\n",
              "      <td>0.643088</td>\n",
              "      <td>37.193597</td>\n",
              "      <td>1999.549584</td>\n",
              "      <td>1992.725118</td>\n",
              "      <td>0.330675</td>\n",
              "    </tr>\n",
              "    <tr>\n",
              "      <th>std</th>\n",
              "      <td>1628.476678</td>\n",
              "      <td>0.479116</td>\n",
              "      <td>17.837210</td>\n",
              "      <td>1.703408</td>\n",
              "      <td>5.647203</td>\n",
              "      <td>0.470483</td>\n",
              "    </tr>\n",
              "    <tr>\n",
              "      <th>min</th>\n",
              "      <td>0.000000</td>\n",
              "      <td>0.000000</td>\n",
              "      <td>16.000000</td>\n",
              "      <td>1997.000000</td>\n",
              "      <td>1956.000000</td>\n",
              "      <td>0.000000</td>\n",
              "    </tr>\n",
              "    <tr>\n",
              "      <th>25%</th>\n",
              "      <td>32.824000</td>\n",
              "      <td>0.000000</td>\n",
              "      <td>22.000000</td>\n",
              "      <td>1998.000000</td>\n",
              "      <td>1989.000000</td>\n",
              "      <td>0.000000</td>\n",
              "    </tr>\n",
              "    <tr>\n",
              "      <th>50%</th>\n",
              "      <td>87.586000</td>\n",
              "      <td>1.000000</td>\n",
              "      <td>33.000000</td>\n",
              "      <td>2000.000000</td>\n",
              "      <td>1994.000000</td>\n",
              "      <td>0.000000</td>\n",
              "    </tr>\n",
              "    <tr>\n",
              "      <th>75%</th>\n",
              "      <td>375.368000</td>\n",
              "      <td>1.000000</td>\n",
              "      <td>47.000000</td>\n",
              "      <td>2001.000000</td>\n",
              "      <td>1997.000000</td>\n",
              "      <td>1.000000</td>\n",
              "    </tr>\n",
              "    <tr>\n",
              "      <th>max</th>\n",
              "      <td>57871.595000</td>\n",
              "      <td>1.000000</td>\n",
              "      <td>97.000000</td>\n",
              "      <td>2002.000000</td>\n",
              "      <td>2003.000000</td>\n",
              "      <td>1.000000</td>\n",
              "    </tr>\n",
              "  </tbody>\n",
              "</table>\n",
              "</div>"
            ],
            "text/plain": [
              "             weight      frontal  ...      yearVeh       deploy\n",
              "count   8652.000000  8652.000000  ...  8651.000000  8652.000000\n",
              "mean     471.030930     0.643088  ...  1992.725118     0.330675\n",
              "std     1628.476678     0.479116  ...     5.647203     0.470483\n",
              "min        0.000000     0.000000  ...  1956.000000     0.000000\n",
              "25%       32.824000     0.000000  ...  1989.000000     0.000000\n",
              "50%       87.586000     1.000000  ...  1994.000000     0.000000\n",
              "75%      375.368000     1.000000  ...  1997.000000     1.000000\n",
              "max    57871.595000     1.000000  ...  2003.000000     1.000000\n",
              "\n",
              "[8 rows x 6 columns]"
            ]
          },
          "metadata": {
            "tags": []
          },
          "execution_count": 35
        }
      ]
    },
    {
      "cell_type": "code",
      "metadata": {
        "colab": {
          "base_uri": "https://localhost:8080/",
          "height": 198
        },
        "id": "mJ-w3lETkVCQ",
        "outputId": "32ec0779-982a-4ab1-d5ab-170cf9597753"
      },
      "source": [
        "df[\"mean score\"] = ((df[\"weight\"] + df[\"frontal\"] + df[\"ageOFocc\"]+df[\"yearacc\"]+df[\"yearVeh\"]+df[\"deploy\"]) / 6).round()\r\n",
        "df.head()"
      ],
      "execution_count": null,
      "outputs": [
        {
          "output_type": "execute_result",
          "data": {
            "text/html": [
              "<div>\n",
              "<style scoped>\n",
              "    .dataframe tbody tr th:only-of-type {\n",
              "        vertical-align: middle;\n",
              "    }\n",
              "\n",
              "    .dataframe tbody tr th {\n",
              "        vertical-align: top;\n",
              "    }\n",
              "\n",
              "    .dataframe thead th {\n",
              "        text-align: right;\n",
              "    }\n",
              "</style>\n",
              "<table border=\"1\" class=\"dataframe\">\n",
              "  <thead>\n",
              "    <tr style=\"text-align: right;\">\n",
              "      <th></th>\n",
              "      <th>dvcat</th>\n",
              "      <th>weight</th>\n",
              "      <th>dead</th>\n",
              "      <th>airbag</th>\n",
              "      <th>seatbelt</th>\n",
              "      <th>frontal</th>\n",
              "      <th>sex</th>\n",
              "      <th>ageOFocc</th>\n",
              "      <th>yearacc</th>\n",
              "      <th>yearVeh</th>\n",
              "      <th>abcat</th>\n",
              "      <th>occRole</th>\n",
              "      <th>deploy</th>\n",
              "      <th>caseid</th>\n",
              "      <th>mean score</th>\n",
              "    </tr>\n",
              "  </thead>\n",
              "  <tbody>\n",
              "    <tr>\n",
              "      <th>0</th>\n",
              "      <td>40-54</td>\n",
              "      <td>18.895</td>\n",
              "      <td>alive</td>\n",
              "      <td>airbag</td>\n",
              "      <td>belted</td>\n",
              "      <td>0</td>\n",
              "      <td>m</td>\n",
              "      <td>25</td>\n",
              "      <td>2002</td>\n",
              "      <td>2000.0</td>\n",
              "      <td>deploy</td>\n",
              "      <td>pass</td>\n",
              "      <td>1</td>\n",
              "      <td>81:99:1</td>\n",
              "      <td>674.0</td>\n",
              "    </tr>\n",
              "    <tr>\n",
              "      <th>1</th>\n",
              "      <td>25-39</td>\n",
              "      <td>266.532</td>\n",
              "      <td>alive</td>\n",
              "      <td>none</td>\n",
              "      <td>none</td>\n",
              "      <td>1</td>\n",
              "      <td>f</td>\n",
              "      <td>28</td>\n",
              "      <td>2001</td>\n",
              "      <td>1991.0</td>\n",
              "      <td>unavail</td>\n",
              "      <td>driver</td>\n",
              "      <td>0</td>\n",
              "      <td>76:12:2</td>\n",
              "      <td>715.0</td>\n",
              "    </tr>\n",
              "    <tr>\n",
              "      <th>2</th>\n",
              "      <td>25-39</td>\n",
              "      <td>51.810</td>\n",
              "      <td>alive</td>\n",
              "      <td>airbag</td>\n",
              "      <td>belted</td>\n",
              "      <td>1</td>\n",
              "      <td>f</td>\n",
              "      <td>36</td>\n",
              "      <td>1999</td>\n",
              "      <td>1994.0</td>\n",
              "      <td>deploy</td>\n",
              "      <td>driver</td>\n",
              "      <td>1</td>\n",
              "      <td>78:53:2</td>\n",
              "      <td>680.0</td>\n",
              "    </tr>\n",
              "    <tr>\n",
              "      <th>3</th>\n",
              "      <td>10-24</td>\n",
              "      <td>1567.626</td>\n",
              "      <td>alive</td>\n",
              "      <td>airbag</td>\n",
              "      <td>belted</td>\n",
              "      <td>0</td>\n",
              "      <td>f</td>\n",
              "      <td>24</td>\n",
              "      <td>2002</td>\n",
              "      <td>1994.0</td>\n",
              "      <td>nodeploy</td>\n",
              "      <td>driver</td>\n",
              "      <td>0</td>\n",
              "      <td>11:47:1</td>\n",
              "      <td>931.0</td>\n",
              "    </tr>\n",
              "    <tr>\n",
              "      <th>4</th>\n",
              "      <td>25-39</td>\n",
              "      <td>31.342</td>\n",
              "      <td>alive</td>\n",
              "      <td>none</td>\n",
              "      <td>none</td>\n",
              "      <td>1</td>\n",
              "      <td>f</td>\n",
              "      <td>46</td>\n",
              "      <td>1997</td>\n",
              "      <td>1990.0</td>\n",
              "      <td>unavail</td>\n",
              "      <td>pass</td>\n",
              "      <td>0</td>\n",
              "      <td>12:87:2</td>\n",
              "      <td>678.0</td>\n",
              "    </tr>\n",
              "  </tbody>\n",
              "</table>\n",
              "</div>"
            ],
            "text/plain": [
              "   dvcat    weight   dead  airbag  ... occRole  deploy   caseid  mean score\n",
              "0  40-54    18.895  alive  airbag  ...    pass       1  81:99:1       674.0\n",
              "1  25-39   266.532  alive    none  ...  driver       0  76:12:2       715.0\n",
              "2  25-39    51.810  alive  airbag  ...  driver       1  78:53:2       680.0\n",
              "3  10-24  1567.626  alive  airbag  ...  driver       0  11:47:1       931.0\n",
              "4  25-39    31.342  alive    none  ...    pass       0  12:87:2       678.0\n",
              "\n",
              "[5 rows x 15 columns]"
            ]
          },
          "metadata": {
            "tags": []
          },
          "execution_count": 36
        }
      ]
    },
    {
      "cell_type": "code",
      "metadata": {
        "colab": {
          "base_uri": "https://localhost:8080/"
        },
        "id": "X0oJkVgeHaX-",
        "outputId": "1f955e03-f184-4274-be02-3b97c38757e6"
      },
      "source": [
        "df['ageOFocc'].value_counts()"
      ],
      "execution_count": null,
      "outputs": [
        {
          "output_type": "execute_result",
          "data": {
            "text/plain": [
              "19    371\n",
              "17    369\n",
              "18    349\n",
              "20    304\n",
              "21    301\n",
              "     ... \n",
              "91      6\n",
              "97      2\n",
              "90      2\n",
              "92      1\n",
              "93      1\n",
              "Name: ageOFocc, Length: 79, dtype: int64"
            ]
          },
          "metadata": {
            "tags": []
          },
          "execution_count": 37
        }
      ]
    },
    {
      "cell_type": "code",
      "metadata": {
        "id": "vxEENCgEb3RD",
        "colab": {
          "base_uri": "https://localhost:8080/"
        },
        "outputId": "aceb88ea-400c-4f2f-8578-e7e63807b1e6"
      },
      "source": [
        "df['dead'].value_counts()"
      ],
      "execution_count": null,
      "outputs": [
        {
          "output_type": "execute_result",
          "data": {
            "text/plain": [
              "alive    8249\n",
              "dead      403\n",
              "Name: dead, dtype: int64"
            ]
          },
          "metadata": {
            "tags": []
          },
          "execution_count": 38
        }
      ]
    },
    {
      "cell_type": "markdown",
      "metadata": {
        "id": "Fw_4cejGCYsC"
      },
      "source": [
        "## Data Visualization"
      ]
    },
    {
      "cell_type": "code",
      "metadata": {
        "id": "wKtxLwVaCeQ5",
        "colab": {
          "base_uri": "https://localhost:8080/",
          "height": 297
        },
        "outputId": "c4c8d16a-b216-47eb-afa0-526a79073c3c"
      },
      "source": [
        "sns.barplot(x = 'yearacc', y = 'mean score', data = df)"
      ],
      "execution_count": null,
      "outputs": [
        {
          "output_type": "execute_result",
          "data": {
            "text/plain": [
              "<matplotlib.axes._subplots.AxesSubplot at 0x7fa4e73269e8>"
            ]
          },
          "metadata": {
            "tags": []
          },
          "execution_count": 39
        },
        {
          "output_type": "display_data",
          "data": {
            "image/png": "[encoded data removed]",
            "text/plain": [
              "<Figure size 432x288 with 1 Axes>"
            ]
          },
          "metadata": {
            "tags": [],
            "needs_background": "light"
          }
        }
      ]
    },
    {
      "cell_type": "code",
      "metadata": {
        "colab": {
          "base_uri": "https://localhost:8080/",
          "height": 299
        },
        "id": "OUj4gN5fdq8l",
        "outputId": "a5ff7058-cbb4-4dab-bab4-dd7e91906339"
      },
      "source": [
        "sns.barplot(x = 'ageOFocc', y = 'mean score', data = df)"
      ],
      "execution_count": null,
      "outputs": [
        {
          "output_type": "execute_result",
          "data": {
            "text/plain": [
              "<matplotlib.axes._subplots.AxesSubplot at 0x7fa4f67561d0>"
            ]
          },
          "metadata": {
            "tags": []
          },
          "execution_count": 9
        },
        {
          "output_type": "display_data",
          "data": {
            "image/png": "[encoded data removed]",
            "text/plain": [
              "<Figure size 432x288 with 1 Axes>"
            ]
          },
          "metadata": {
            "tags": [],
            "needs_background": "light"
          }
        }
      ]
    },
    {
      "cell_type": "code",
      "metadata": {
        "colab": {
          "base_uri": "https://localhost:8080/",
          "height": 297
        },
        "id": "Z9ZZnExEovLy",
        "outputId": "ae6cfd9e-8f27-45bd-8cf8-2a4d7f490283"
      },
      "source": [
        "sns.barplot(x = 'dead', y = 'mean score', data = df)"
      ],
      "execution_count": null,
      "outputs": [
        {
          "output_type": "execute_result",
          "data": {
            "text/plain": [
              "<matplotlib.axes._subplots.AxesSubplot at 0x7fa4f3898a90>"
            ]
          },
          "metadata": {
            "tags": []
          },
          "execution_count": 18
        },
        {
          "output_type": "display_data",
          "data": {
            "image/png": "[encoded data removed]",
            "text/plain": [
              "<Figure size 432x288 with 1 Axes>"
            ]
          },
          "metadata": {
            "tags": [],
            "needs_background": "light"
          }
        }
      ]
    }
  ]
}